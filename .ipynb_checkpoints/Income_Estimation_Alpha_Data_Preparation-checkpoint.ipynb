{
 "cells": [
  {
   "cell_type": "markdown",
   "id": "1de9c72c-049a-4527-8e45-581a61399e5f",
   "metadata": {},
   "source": [
    "Income Estimation Alpha Model - We will add the Beta2_Step2 Data with the CIC features"
   ]
  },
  {
   "cell_type": "markdown",
   "id": "3ca1b1c0-3e9b-4a31-a210-0eda99574608",
   "metadata": {},
   "source": [
    "# <div align=\"center\" style=\"color: #ff5733;\">Income Estimation Regression Model (Catboost) Beta 2 STEP 2</div>"
   ]
  },
  {
   "cell_type": "markdown",
   "id": "72ef276e-d1c0-4573-ad5a-f417c5b02928",
   "metadata": {},
   "source": [
    "# Delare libraries"
   ]
  },
  {
   "cell_type": "code",
   "execution_count": null,
   "id": "34816de6-43d2-4f0b-bde3-18ce31cd41f8",
   "metadata": {},
   "outputs": [],
   "source": []
  }
 ],
 "metadata": {
  "environment": {
   "kernel": "incomeestimation_env",
   "name": "workbench-notebooks.m125",
   "type": "gcloud",
   "uri": "us-docker.pkg.dev/deeplearning-platform-release/gcr.io/workbench-notebooks:m125"
  },
  "kernelspec": {
   "display_name": "IncomeEstimation_env",
   "language": "python",
   "name": "incomeestimation_env"
  },
  "language_info": {
   "codemirror_mode": {
    "name": "ipython",
    "version": 3
   },
   "file_extension": ".py",
   "mimetype": "text/x-python",
   "name": "python",
   "nbconvert_exporter": "python",
   "pygments_lexer": "ipython3",
   "version": "3.10.16"
  },
  "toc-autonumbering": true,
  "toc-showtags": true
 },
 "nbformat": 4,
 "nbformat_minor": 5
}
